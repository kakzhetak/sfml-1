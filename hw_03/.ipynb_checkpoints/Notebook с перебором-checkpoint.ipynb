{
 "cells": [
  {
   "cell_type": "code",
   "execution_count": 2,
   "metadata": {
    "collapsed": true
   },
   "outputs": [],
   "source": [
    "import pandas as pd\n",
    "import numpy as np\n",
    "import matplotlib.pyplot as plt\n",
    "%matplotlib inline"
   ]
  },
  {
   "cell_type": "code",
   "execution_count": 16,
   "metadata": {},
   "outputs": [],
   "source": [
    "from sklearn.tree import DecisionTreeClassifier\n",
    "from sklearn.neighbors import KNeighborsClassifier\n",
    "from sklearn.linear_model import LogisticRegression\n",
    "from sklearn.metrics import precision_score, recall_score, accuracy_score, roc_auc_score\n",
    "from sklearn.cross_validation import cross_val_score\n",
    "from sklearn.model_selection import StratifiedKFold\n",
    "from sklearn.model_selection import train_test_split"
   ]
  },
  {
   "cell_type": "code",
   "execution_count": 3,
   "metadata": {},
   "outputs": [],
   "source": [
    "samp_sub = pd.read_csv('sample_submission.csv')"
   ]
  },
  {
   "cell_type": "code",
   "execution_count": 8,
   "metadata": {
    "collapsed": true
   },
   "outputs": [],
   "source": [
    "train =  pd.read_csv('train.csv')\n",
    "test = pd.read_csv('test.csv')\n",
    "y_train = train.iloc[:,-1]\n",
    "train.loc[:, 'sample'] = 'train'\n",
    "test.loc[:, 'sample'] = 'test'\n",
    "data = train.drop('target',axis = 1).append(test).reset_index(drop=True)"
   ]
  },
  {
   "cell_type": "code",
   "execution_count": 9,
   "metadata": {},
   "outputs": [],
   "source": [
    "df = data"
   ]
  },
  {
   "cell_type": "code",
   "execution_count": 10,
   "metadata": {
    "collapsed": true
   },
   "outputs": [],
   "source": [
    "df.loc[df['pdays']==999, 'pdays'] = 90\n",
    "df.loc[df['duration']>1000, 'duration'] = 1000"
   ]
  },
  {
   "cell_type": "code",
   "execution_count": 11,
   "metadata": {
    "collapsed": true
   },
   "outputs": [],
   "source": [
    "def obj_lst_contructor(data):\n",
    "    obj_lst = []\n",
    "    for i in data.columns: # перебираем все столбцы\n",
    "        if str(data[i].dtype) == 'object' and i != '_id' and i != 'sample':\n",
    "            obj_lst.append(i)\n",
    "    return obj_lst\n",
    "\n",
    "obj_lst = obj_lst_contructor(df)"
   ]
  },
  {
   "cell_type": "code",
   "execution_count": 12,
   "metadata": {
    "collapsed": true
   },
   "outputs": [
    {
     "name": "stdout",
     "output_type": "stream",
     "text": [
      "['job', 'marital', 'education', 'default', 'housing', 'loan', 'contact', 'month', 'day_of_week', 'poutcome']\n",
      "<class 'pandas.core.frame.DataFrame'>\n",
      "RangeIndex: 41188 entries, 0 to 41187\n",
      "Data columns (total 64 columns):\n",
      "_id                              41188 non-null object\n",
      "duration                         41188 non-null int64\n",
      "campaign                         41188 non-null int64\n",
      "pdays                            41188 non-null int64\n",
      "previous                         41188 non-null int64\n",
      "emp.var.rate                     41188 non-null float64\n",
      "cons.price.idx                   41188 non-null float64\n",
      "cons.conf.idx                    41188 non-null float64\n",
      "euribor3m                        41188 non-null float64\n",
      "nr.employed                      41188 non-null float64\n",
      "sample                           41188 non-null object\n",
      "job_admin.                       41188 non-null uint8\n",
      "job_blue-collar                  41188 non-null uint8\n",
      "job_entrepreneur                 41188 non-null uint8\n",
      "job_housemaid                    41188 non-null uint8\n",
      "job_management                   41188 non-null uint8\n",
      "job_retired                      41188 non-null uint8\n",
      "job_self-employed                41188 non-null uint8\n",
      "job_services                     41188 non-null uint8\n",
      "job_student                      41188 non-null uint8\n",
      "job_technician                   41188 non-null uint8\n",
      "job_unemployed                   41188 non-null uint8\n",
      "job_unknown                      41188 non-null uint8\n",
      "marital_divorced                 41188 non-null uint8\n",
      "marital_married                  41188 non-null uint8\n",
      "marital_single                   41188 non-null uint8\n",
      "marital_unknown                  41188 non-null uint8\n",
      "education_basic.4y               41188 non-null uint8\n",
      "education_basic.6y               41188 non-null uint8\n",
      "education_basic.9y               41188 non-null uint8\n",
      "education_high.school            41188 non-null uint8\n",
      "education_illiterate             41188 non-null uint8\n",
      "education_professional.course    41188 non-null uint8\n",
      "education_university.degree      41188 non-null uint8\n",
      "education_unknown                41188 non-null uint8\n",
      "default_no                       41188 non-null uint8\n",
      "default_unknown                  41188 non-null uint8\n",
      "default_yes                      41188 non-null uint8\n",
      "housing_no                       41188 non-null uint8\n",
      "housing_unknown                  41188 non-null uint8\n",
      "housing_yes                      41188 non-null uint8\n",
      "loan_no                          41188 non-null uint8\n",
      "loan_unknown                     41188 non-null uint8\n",
      "loan_yes                         41188 non-null uint8\n",
      "contact_cellular                 41188 non-null uint8\n",
      "contact_telephone                41188 non-null uint8\n",
      "month_apr                        41188 non-null uint8\n",
      "month_aug                        41188 non-null uint8\n",
      "month_dec                        41188 non-null uint8\n",
      "month_jul                        41188 non-null uint8\n",
      "month_jun                        41188 non-null uint8\n",
      "month_mar                        41188 non-null uint8\n",
      "month_may                        41188 non-null uint8\n",
      "month_nov                        41188 non-null uint8\n",
      "month_oct                        41188 non-null uint8\n",
      "month_sep                        41188 non-null uint8\n",
      "day_of_week_fri                  41188 non-null uint8\n",
      "day_of_week_mon                  41188 non-null uint8\n",
      "day_of_week_thu                  41188 non-null uint8\n",
      "day_of_week_tue                  41188 non-null uint8\n",
      "day_of_week_wed                  41188 non-null uint8\n",
      "poutcome_failure                 41188 non-null uint8\n",
      "poutcome_nonexistent             41188 non-null uint8\n",
      "poutcome_success                 41188 non-null uint8\n",
      "dtypes: float64(5), int64(4), object(2), uint8(53)\n",
      "memory usage: 5.5+ MB\n"
     ]
    }
   ],
   "source": [
    "def column_deleter(df_input,i):\n",
    "    df_output = df_input.copy()\n",
    "    df_output = df_output.drop(i,axis = 1)\n",
    "    obj_lst = obj_lst_contructor(df_output)\n",
    "    print(obj_lst)\n",
    "    df_output = pd.get_dummies(df_output, columns = obj_lst)\n",
    "    return df_output\n",
    "df_cd = column_deleter(df, df.columns[1])\n",
    "df_cd.info()"
   ]
  },
  {
   "cell_type": "code",
   "execution_count": 13,
   "metadata": {
    "collapsed": true
   },
   "outputs": [],
   "source": [
    "def get_knn_roc_auc(df_train_preproc, y_train):\n",
    "    knn = KNeighborsClassifier(n_neighbors=290, weights='distance', p=1)\n",
    "    cross_val_arr = cross_val_score(\n",
    "        knn,\n",
    "        df_train_preproc,\n",
    "        y_train,\n",
    "        scoring='roc_auc',\n",
    "        cv=3\n",
    "    )\n",
    "    mean_roc_auc = np.mean(cross_val_arr)\n",
    "    return mean_roc_auc #, mean_roc_auc"
   ]
  },
  {
   "cell_type": "code",
   "execution_count": 14,
   "metadata": {
    "collapsed": true
   },
   "outputs": [
    {
     "name": "stdout",
     "output_type": "stream",
     "text": [
      "['job', 'marital', 'education', 'default', 'housing', 'loan', 'contact', 'month', 'day_of_week', 'poutcome']\n"
     ]
    },
    {
     "ename": "NameError",
     "evalue": "name 'KNeighborsClassifier' is not defined",
     "output_type": "error",
     "traceback": [
      "\u001b[1;31m---------------------------------------------------------------------------\u001b[0m",
      "\u001b[1;31mNameError\u001b[0m                                 Traceback (most recent call last)",
      "\u001b[1;32m<ipython-input-14-f9f75df358a1>\u001b[0m in \u001b[0;36m<module>\u001b[1;34m()\u001b[0m\n\u001b[0;32m      3\u001b[0m     \u001b[0mdf_cd\u001b[0m \u001b[1;33m=\u001b[0m \u001b[0mcolumn_deleter\u001b[0m\u001b[1;33m(\u001b[0m\u001b[0mdf\u001b[0m\u001b[1;33m,\u001b[0m \u001b[0mi\u001b[0m\u001b[1;33m)\u001b[0m\u001b[1;33m\u001b[0m\u001b[0m\n\u001b[0;32m      4\u001b[0m     \u001b[0mdf_train_preproc\u001b[0m \u001b[1;33m=\u001b[0m \u001b[0mdf_cd\u001b[0m\u001b[1;33m[\u001b[0m\u001b[0mdf_cd\u001b[0m\u001b[1;33m[\u001b[0m\u001b[1;34m'sample'\u001b[0m\u001b[1;33m]\u001b[0m \u001b[1;33m==\u001b[0m \u001b[1;34m'train'\u001b[0m\u001b[1;33m]\u001b[0m\u001b[1;33m.\u001b[0m\u001b[0mdrop\u001b[0m\u001b[1;33m(\u001b[0m\u001b[1;33m[\u001b[0m\u001b[1;34m'_id'\u001b[0m\u001b[1;33m,\u001b[0m \u001b[1;34m'sample'\u001b[0m\u001b[1;33m]\u001b[0m\u001b[1;33m,\u001b[0m\u001b[0maxis\u001b[0m \u001b[1;33m=\u001b[0m \u001b[1;36m1\u001b[0m\u001b[1;33m)\u001b[0m\u001b[1;33m\u001b[0m\u001b[0m\n\u001b[1;32m----> 5\u001b[1;33m     \u001b[0mcvs\u001b[0m \u001b[1;33m=\u001b[0m \u001b[0mget_knn_roc_auc\u001b[0m\u001b[1;33m(\u001b[0m\u001b[0mdf_train_preproc\u001b[0m\u001b[1;33m,\u001b[0m \u001b[0my_train\u001b[0m\u001b[1;33m)\u001b[0m\u001b[1;33m\u001b[0m\u001b[0m\n\u001b[0m\u001b[0;32m      6\u001b[0m \u001b[1;31m#     cvs, mean_cvs = get_knn_roc_auc(df_train_preproc, y_train)\u001b[0m\u001b[1;33m\u001b[0m\u001b[1;33m\u001b[0m\u001b[0m\n\u001b[0;32m      7\u001b[0m     \u001b[0msome_list\u001b[0m \u001b[1;33m=\u001b[0m \u001b[1;33m[\u001b[0m\u001b[0mi\u001b[0m\u001b[1;33m,\u001b[0m \u001b[0mcvs\u001b[0m\u001b[1;33m.\u001b[0m\u001b[0mtolist\u001b[0m\u001b[1;33m(\u001b[0m\u001b[1;33m)\u001b[0m\u001b[1;33m]\u001b[0m\u001b[1;33m\u001b[0m\u001b[0m\n",
      "\u001b[1;32m<ipython-input-13-a73146f30c64>\u001b[0m in \u001b[0;36mget_knn_roc_auc\u001b[1;34m(df_train_preproc, y_train)\u001b[0m\n\u001b[0;32m      1\u001b[0m \u001b[1;32mdef\u001b[0m \u001b[0mget_knn_roc_auc\u001b[0m\u001b[1;33m(\u001b[0m\u001b[0mdf_train_preproc\u001b[0m\u001b[1;33m,\u001b[0m \u001b[0my_train\u001b[0m\u001b[1;33m)\u001b[0m\u001b[1;33m:\u001b[0m\u001b[1;33m\u001b[0m\u001b[0m\n\u001b[1;32m----> 2\u001b[1;33m     \u001b[0mknn\u001b[0m \u001b[1;33m=\u001b[0m \u001b[0mKNeighborsClassifier\u001b[0m\u001b[1;33m(\u001b[0m\u001b[0mn_neighbors\u001b[0m\u001b[1;33m=\u001b[0m\u001b[1;36m290\u001b[0m\u001b[1;33m,\u001b[0m \u001b[0mweights\u001b[0m\u001b[1;33m=\u001b[0m\u001b[1;34m'distance'\u001b[0m\u001b[1;33m,\u001b[0m \u001b[0mp\u001b[0m\u001b[1;33m=\u001b[0m\u001b[1;36m1\u001b[0m\u001b[1;33m)\u001b[0m\u001b[1;33m\u001b[0m\u001b[0m\n\u001b[0m\u001b[0;32m      3\u001b[0m     \u001b[1;31m# knn.fit(X,y)\u001b[0m\u001b[1;33m\u001b[0m\u001b[1;33m\u001b[0m\u001b[0m\n\u001b[0;32m      4\u001b[0m     \u001b[1;31m# knn_predict = knn.predict(X_test)\u001b[0m\u001b[1;33m\u001b[0m\u001b[1;33m\u001b[0m\u001b[0m\n\u001b[0;32m      5\u001b[0m     \u001b[1;31m# knn_predict_proba = knn.predict_proba(X_test)\u001b[0m\u001b[1;33m\u001b[0m\u001b[1;33m\u001b[0m\u001b[0m\n",
      "\u001b[1;31mNameError\u001b[0m: name 'KNeighborsClassifier' is not defined"
     ]
    }
   ],
   "source": [
    "##### запускать это\n",
    "\n",
    "drop_col_list=[]\n",
    "for i in df.columns[1:-1]:\n",
    "    df_cd = column_deleter(df, i)\n",
    "    df_train_preproc = df_cd[df_cd['sample'] == 'train'].drop(['_id', 'sample'],axis = 1)\n",
    "    cvs = get_knn_roc_auc(df_train_preproc, y_train)\n",
    "#     cvs, mean_cvs = get_knn_roc_auc(df_train_preproc, y_train)\n",
    "    some_list = [i, cvs.tolist()]\n",
    "    drop_col_list.append(some_list)\n",
    "#     drop_col_list[i].append(mean_cvs)\n"
   ]
  },
  {
   "cell_type": "code",
   "execution_count": null,
   "metadata": {
    "collapsed": true
   },
   "outputs": [],
   "source": [
    "drop_col_list"
   ]
  },
  {
   "cell_type": "code",
   "execution_count": null,
   "metadata": {
    "collapsed": true
   },
   "outputs": [],
   "source": []
  },
  {
   "cell_type": "code",
   "execution_count": null,
   "metadata": {
    "collapsed": true
   },
   "outputs": [],
   "source": []
  }
 ],
 "metadata": {
  "kernelspec": {
   "display_name": "Python 3",
   "language": "python",
   "name": "python3"
  },
  "language_info": {
   "codemirror_mode": {
    "name": "ipython",
    "version": 3
   },
   "file_extension": ".py",
   "mimetype": "text/x-python",
   "name": "python",
   "nbconvert_exporter": "python",
   "pygments_lexer": "ipython3",
   "version": "3.6.5"
  }
 },
 "nbformat": 4,
 "nbformat_minor": 2
}
